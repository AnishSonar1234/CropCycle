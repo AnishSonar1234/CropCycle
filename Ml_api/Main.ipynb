{
 "cells": [
  {
   "cell_type": "code",
   "execution_count": 20,
   "metadata": {},
   "outputs": [
    {
     "name": "stdout",
     "output_type": "stream",
     "text": [
      "Model accuracy: 0.9636363636363636\n",
      "Predicted best crop: chickpea\n"
     ]
    }
   ],
   "source": [
    "import pandas as pd\n",
    "from sklearn.model_selection import train_test_split\n",
    "from sklearn.ensemble import RandomForestClassifier\n",
    "from sklearn.metrics import accuracy_score\n",
    "\n",
    "# Load the dataset (make sure the CSV file is in the same directory or provide the full path)\n",
    "data = pd.read_csv('Crop_recommendation (1).csv')\n",
    "\n",
    "# Select only the features we're interested in\n",
    "features = data[['ph', 'rainfall', 'temperature', 'humidity']]\n",
    "\n",
    "# The target variable (crop name) might be stored in a column (often called 'label')\n",
    "target = data['label']\n",
    "\n",
    "# Split the data into training and testing sets (80% train, 20% test)\n",
    "X_train, X_test, y_train, y_test = train_test_split(features, target, test_size=0.2, random_state=42)\n",
    "\n",
    "# Initialize and train the Random Forest classifier\n",
    "model = RandomForestClassifier(random_state=42)\n",
    "model.fit(X_train, y_train)\n",
    "\n",
    "# Make predictions on the test set and evaluate the model's accuracy\n",
    "predictions = model.predict(X_test)\n",
    "accuracy = accuracy_score(y_test, predictions)\n",
    "print(\"Model accuracy:\", accuracy)\n",
    "\n",
    "# Define a function to predict the best crop given new input values\n",
    "def predict_crop(ph, rainfall, temperature, humidity):\n",
    "    sample = pd.DataFrame({\n",
    "        'ph': [ph],\n",
    "        'rainfall': [rainfall],\n",
    "        'temperature': [temperature],\n",
    "        'humidity': [humidity]\n",
    "    })\n",
    "    crop = model.predict(sample)[0]\n",
    "    return crop\n",
    "\n",
    "# Example usage:\n",
    "example_crop = predict_crop(ph=6.5, rainfall=400, temperature=28, humidity=20)\n",
    "print(\"Predicted best crop:\", example_crop)\n"
   ]
  }
 ],
 "metadata": {
  "kernelspec": {
   "display_name": "Python 3",
   "language": "python",
   "name": "python3"
  },
  "language_info": {
   "codemirror_mode": {
    "name": "ipython",
    "version": 3
   },
   "file_extension": ".py",
   "mimetype": "text/x-python",
   "name": "python",
   "nbconvert_exporter": "python",
   "pygments_lexer": "ipython3",
   "version": "3.13.0"
  }
 },
 "nbformat": 4,
 "nbformat_minor": 2
}
